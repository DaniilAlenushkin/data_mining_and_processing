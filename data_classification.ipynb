{
 "cells": [
  {
   "cell_type": "markdown",
   "source": [
    "Загружаем необходимые библиотеки"
   ],
   "metadata": {
    "collapsed": false
   }
  },
  {
   "cell_type": "code",
   "execution_count": 1,
   "metadata": {
    "collapsed": true
   },
   "outputs": [],
   "source": [
    "from openpyxl import load_workbook\n",
    "import pandas as pd\n",
    "from sklearn.ensemble import BaggingClassifier\n",
    "from sklearn.metrics import classification_report\n",
    "from sklearn.model_selection import train_test_split, GridSearchCV\n",
    "from sklearn.preprocessing import MinMaxScaler\n",
    "from sklearn.svm import SVC"
   ]
  },
  {
   "cell_type": "markdown",
   "source": [
    "С помощью библиотеки Pandas непосредственно невозможно получить информацию о цвете текста в файле Excel. Выполним разделение на классы перед выполнением программы"
   ],
   "metadata": {
    "collapsed": false
   }
  },
  {
   "cell_type": "code",
   "execution_count": 2,
   "outputs": [
    {
     "name": "stdout",
     "output_type": "stream",
     "text": [
      "[0, 0, 0, 0, 0, 0, 0, 0, 0, 0, 2, 0, 0, 0, 0, 0, 0, 2, 2, 0, 0, 0, 0, 0, 0, 0, 0, 0, 0, 0, 0, 0, 0, 0, 0, 0, 0, 0, 0, 0, 2, 2, 0, 0, 0, 0, 0, 0, 0, 0, 0, 0, 0, 0, 0, 0, 0, 0, 0, 0, 0, 0, 0, 2, 2, 0, 0, 2, 0, 2, 0, 0, 0, 0, 0, 2, 0, 0, 0, 0, 0, 0, 0, 0, 0, 0, 0, 0, 0, 0, 0, 2, 0, 0, 0, 0, 0, 0, 0, 0, 0, 0, 2, 0, 2, 0, 0, 2, 2, 0, 1, 1, 1, 1, 0, 0, 0, 1, 1, 1, 1, 0, 0, 0, 0, 2, 0, 0, 0, 0, 0, 2, 2, 0, 0, 0, 0, 0, 0, 0, 0, 0, 0, 0, 2, 0, 0, 0, 2, 2, 0, 0, 0, 0, 0, 0, 0, 2, 0, 2, 2, 2, 0, 0, 0, 0, 0, 0, 0, 0, 0, 0, 0, 0, 0, 0, 0, 0, 0, 0, 0, 0, 0, 0, 0, 0, 0, 0, 0, 2, 0, 0, 0, 2, 0, 1, 1, 1, 1, 0, 0, 0, 0, 0, 0, 0, 0, 0, 0, 0, 0, 0, 0, 0, 0, 0, 0, 0, 0, 0, 2, 0, 2, 0, 0, 0, 0, 2, 2, 0, 2, 0, 0, 0, 0, 1, 1, 1, 1, 1, 0, 0, 0, 0, 0, 0, 0, 0, 2, 0, 0, 2, 0, 0, 0, 0, 0, 0, 0, 0, 0, 0, 0, 2, 0, 0, 0, 0, 0, 0, 0, 0, 0, 0, 0, 0, 0, 0, 0, 0, 0, 0, 0, 0, 0, 0, 0, 0, 0, 0, 0, 0, 0, 0, 0, 0, 0, 0, 0, 0, 0, 0, 0, 2, 2, 0, 0, 0, 0, 0, 0, 0, 0, 0, 0, 2, 0, 0, 0, 0, 0, 0, 0, 0, 2, 0, 0, 0, 0, 2, 0, 0, 0, 2, 0, 0, 0, 0, 0, 0, 2, 0, 0, 0, 0, 0, 0, 0, 0, 0, 0, 0, 0, 0, 0, 0, 2, 0, 0, 0, 0, 0, 0, 0, 0, 0, 0, 0, 0, 0, 2, 0, 0, 0, 0, 0, 0, 0, 0, 0, 0, 0, 0, 2, 0, 0, 0, 0, 0, 0, 0, 0, 0, 0, 0, 2, 0, 0, 0, 0, 0, 0, 0, 0, 0, 0, 0, 1, 1, 1, 1, 1, 1, 0, 0, 0, 0, 0, 0, 0, 0, 2, 2, 2, 0, 0, 0, 0, 0, 0, 0, 0, 0, 0, 2, 0, 0, 0, 2, 0, 0, 0, 2, 0, 2, 0, 0, 0, 1, 1, 1, 1, 1, 0, 0, 0, 0, 0, 0, 0, 0, 0, 0, 0, 0, 0, 0, 0, 0, 0, 0, 0, 0, 0, 2, 2, 0, 0, 0, 2, 0, 0, 0, 0, 0, 2, 0, 0, 0, 0, 0, 0, 0, 1, 1, 1, 1, 0, 2, 2, 0, 2, 0, 2, 0, 0, 2, 0, 1, 1, 1, 1, 1, 1, 1, 1, 1, 1, 1, 1, 1, 0, 0, 0, 1, 1, 1, 1, 1, 1, 0, 0, 2, 0, 0, 0, 0, 2, 2, 2, 0, 0, 0, 0, 2, 0, 0, 0, 0, 0, 1, 1, 1, 1, 1, 0, 0, 0, 0, 0, 1, 1, 1, 1, 1, 1, 0, 2, 2, 0, 2, 2, 0, 2, 0, 0, 1, 1, 1, 1, 0, 0, 2, 0, 0, 0, 0, 0, 0, 0, 0, 0, 0, 0, 0, 0, 0, 0, 0, 0, 0, 0, 0, 0, 0, 0, 0, 0, 0, 0, 0, 0, 0, 0, 0, 0, 0, 0, 0, 0, 0, 0, 0, 0, 0, 0, 0, 0, 0, 0, 0, 0, 0, 0, 0, 0, 0, 0, 0, 1, 1, 1, 1, 1, 1, 1, 1, 1, 1, 1, 0, 0, 0, 0, 0, 0, 0, 0, 0, 0, 1, 1, 1, 1, 1, 1, 1, 1, 1, 1, 1, 1, 1, 1, 1, 1, 1, 1, 1, 1, 1, 1, 1, 1, 1, 1, 1, 1, 1, 1, 1, 1, 1, 1, 1, 1, 1, 1, 1, 1, 1, 0, 0, 0, 0, 1, 1, 1, 1, 1, 0, 0, 1, 1, 1, 1, 1, 1, 1, 1, 1, 0, 0, 2, 0, 0, 0, 0, 0, 1, 1, 1, 1, 1, 0, 0, 2, 0, 0, 1, 1, 1, 1, 0, 0, 0, 0, 0, 1, 1, 1, 1, 1, 1, 0, 2, 0, 2, 2, 0, 2, 0, 0, 0, 0, 0, 0, 0, 0, 0, 0, 0, 0, 0, 0, 0, 0, 2, 0, 1, 1, 1, 1, 0, 0, 0, 0, 0, 0, 0, 0, 0, 0, 1, 1, 1, 1, 1, 1, 1, 0, 2, 0, 0, 0, 0, 0, 0, 0, 0, 0, 0, 0, 0, 0, 0, 1, 1, 1, 1, 1, 1, 0, 0, 1, 1, 1, 1, 1, 1, 1, 1, 1, 1, 1, 1, 1, 1, 1, 1, 1, 1, 1, 1, 1, 1, 0, 2, 2, 0, 0, 0, 0, 0, 0, 0, 0, 0, 0, 0, 0, 2, 2, 0, 0, 0, 0, 0, 0, 0, 0, 2, 0, 0, 0, 0, 0, 0, 0, 0, 0, 0, 0, 0, 0, 0, 2, 2, 2, 0, 0, 0, 0, 0, 0, 0, 0, 0, 0, 0, 0, 0, 1, 1, 1, 1, 0, 2, 0, 0, 0, 0, 0, 2, 0, 0, 0, 0, 0, 0, 2, 2, 0, 0, 0, 0, 0, 0, 0, 0, 2, 2, 0, 0, 2, 0, 2, 0, 0, 0, 0, 0, 0, 0, 0, 0, 0, 2, 0, 0, 0, 0, 0, 0, 0, 2, 2, 0, 0, 0, 0, 0, 0, 0, 0, 0, 2, 0, 2, 0, 0, 0, 0, 0, 0, 2, 2, 2, 0, 0, 0, 0, 0, 0, 0, 0, 0, 0, 0, 0, 0, 0, 0, 0, 0, 0, 0, 0, 0, 0, 0, 0, 0, 0, 0, 0, 0, 0, 0, 0, 0, 0, 0, 0, 0, 0, 2, 2, 2, 0, 0, 0, 0, 0, 0, 0, 0, 0, 0, 0, 0, 0, 0, 0, 0, 0, 0, 0, 0, 0, 0, 0, 2, 0, 0, 0, 0, 2, 0, 0, 0, 0, 0, 2, 0, 0, 0, 0, 0, 0, 0, 2, 0, 0, 0, 0, 0, 0, 0, 0, 0, 0, 0, 0, 0, 1, 1, 1, 1, 0, 0, 0, 2, 0, 0, 0, 0, 0, 0, 0, 0, 0, 2, 2, 0, 0, 0, 0, 0, 0, 0, 0, 0, 0, 0, 0, 0, 0, 0, 0, 0, 0, 0, 0, 0, 0, 2, 0, 0, 0, 0, 0, 0, 2, 0, 0, 0, 0, 0, 0, 0, 0, 0, 0, 0, 0, 0, 0, 0, 0, 2, 0, 2, 2, 2, 0, 0, 0, 0, 0, 0, 0, 0, 0, 0, 0, 0, 0, 0, 0, 0, 0, 0, 0, 0, 0, 0, 0, 0, 0, 0, 2, 0, 2, 0, 0, 0, 0, 2, 0, 2, 0, 0, 0, 0, 0, 2, 0, 0, 0, 0, 0, 0, 0, 0, 2, 0, 0, 2, 0, 0, 0, 0, 0, 0, 0, 0, 0, 0, 0, 0, 0, 0, 0, 0, 0, 2, 0, 0, 0, 0, 0, 0, 0, 0, 0, 0, 0, 0, 0, 0, 0, 0, 2, 0, 0, 0, 2, 0, 0, 0, 0, 0, 0, 0, 0, 0, 0, 0, 0, 0, 0, 0, 0, 0, 0, 0, 0, 0, 0, 0, 0, 2, 0, 0, 0, 0, 0, 0, 0, 0, 0, 0, 0, 0, 0, 2, 2, 2, 0, 0, 2, 2, 0, 0, 0, 0, 0, 0, 0, 0, 0, 0, 0, 0, 1, 1, 1, 1, 1, 1, 1, 1, 1, 1, 1, 1, 1, 1, 1, 1, 1, 1, 1, 1, 1, 1, 1, 1, 1, 1, 1, 1, 1, 1, 1, 1, 1, 1, 1, 1, 1, 1, 1, 1, 1, 1, 1, 1, 1, 1, 1, 1, 1, 1, 1, 1, 1, 1, 1, 1, 1, 1, 1, 1, 1, 1, 1, 1, 1, 1, 1, 1, 1, 1, 1, 1, 1, 1, 1, 1, 1, 1, 1, 1, 1, 1, 1, 1, 1, 1, 1, 1, 1, 1, 1, 1, 1, 1, 1, 1, 1, 1, 1, 1, 1, 1, 1, 1, 1, 1, 1, 1, 1, 1, 1, 0, 0, 2, 0, 0, 0, 0, 0, 0, 0, 0, 0, 0, 0, 0, 0, 0, 0, 0, 0, 0, 0, 0, 0, 0, 2, 0, 0, 0, 0, 2, 2]\n"
     ]
    }
   ],
   "source": [
    "book = load_workbook('datasets/V1RS41at_02.05.2014ТЗЧ.xlsx')\n",
    "sheet = book.active\n",
    "classes = []\n",
    "ignore_columns = []\n",
    "\n",
    "for column in range(1, sheet.max_column):\n",
    "    if sheet[1][column].fill.fgColor.rgb == 'FFFFFF00':\n",
    "        ignore_columns.append(column)\n",
    "\n",
    "for row in range(2,  sheet.max_row):\n",
    "    red_cell_in_row = False\n",
    "    for column in range(1, sheet.max_column):\n",
    "        if column not in ignore_columns:\n",
    "            cell = sheet[row][column]\n",
    "            row_value = row - 1\n",
    "            while cell.value is None:\n",
    "                cell = sheet[row_value][column]\n",
    "                row_value -= 1\n",
    "            if cell.font.color.value == 'FFFF0000':\n",
    "                red_cell_in_row = True\n",
    "                break\n",
    "\n",
    "    if red_cell_in_row:\n",
    "        if classes[-1] == 0:\n",
    "            classes.append(2)\n",
    "        elif classes[-1] == 1:\n",
    "            classes.append(1)\n",
    "        elif classes[-3:] == [2, 2, 2]:\n",
    "            classes = classes[:-3] + [1, 1, 1, 1]\n",
    "        elif classes[-1] == 2:\n",
    "            classes.append(2)\n",
    "    else:\n",
    "        classes.append(0)\n",
    "\n",
    "print(classes)"
   ],
   "metadata": {
    "collapsed": false
   }
  },
  {
   "cell_type": "markdown",
   "source": [
    "Считываем данные"
   ],
   "metadata": {
    "collapsed": false
   }
  },
  {
   "cell_type": "code",
   "execution_count": 3,
   "outputs": [
    {
     "data": {
      "text/plain": "              Unnamed: 0  Ubs,V  Ibs,A  Isun,A     RKPT,b  Sst0x,b  Sst1x,b   \n0    2014-05-02 00:00:31  14.63   0.27    0.13  1000000.0      NaN      0.0  \\\n1    2014-05-02 00:01:31  14.76    NaN     NaN  1000000.0    110.0      0.0   \n2    2014-05-02 00:02:31  13.64   0.24    0.72  1000000.0    110.0      0.0   \n3    2014-05-02 00:03:31  14.69   0.21    0.56  1000000.0    110.0      0.0   \n4    2014-05-02 00:04:31  14.76   0.21    0.83  1000000.0    110.0      0.0   \n...                  ...    ...    ...     ...        ...      ...      ...   \n1433 2014-05-02 23:55:10  14.56   0.21    0.51  1000000.0    110.0      0.0   \n1434 2014-05-02 23:56:10  14.56   0.21    0.64  1000000.0    110.0      0.0   \n1435 2014-05-02 23:57:10  14.56   0.27    0.69  1000000.0    110.0      0.0   \n1436 2014-05-02 23:58:11  14.56   0.19    0.43  1000000.0      NaN      0.0   \n1437 2014-05-02 23:59:11  14.56   0.21    0.53  1000000.0    110.0      NaN   \n\n      Ipt0,A  Ipt1,A  Ipt2,A  ...  SPrm2,V  VP,d  ShKom,d  Kmnd,d  God,h   \n0        0.0    0.09    0.09  ...     0.98   0.0     29.0   430.0     14  \\\n1        NaN     NaN    0.07  ...     0.96   0.0     29.0   430.0     14   \n2        0.0    0.09    0.09  ...     0.98   0.0     29.0     NaN    NaN   \n3        0.0    0.07    0.09  ...     0.98   0.0     29.0   430.0     14   \n4        0.0    0.07    0.07  ...     0.96   0.0     29.0   430.0     14   \n...      ...     ...     ...  ...      ...   ...      ...     ...    ...   \n1433     0.0    0.09    0.07  ...     1.06   0.0     83.0  2771.0     14   \n1434     0.0    0.09    0.09  ...     1.02   0.0     83.0  2771.0     14   \n1435     0.0     NaN    0.07  ...     0.99   0.0     83.0  2771.0     14   \n1436     0.0     NaN    0.13  ...      NaN   0.0     83.0     NaN     14   \n1437     0.0    0.07    0.07  ...     0.98   0.0     83.0     NaN     14   \n\n      Mes,h  Den,h  Chas,h  Min,h  Sec  \n0         5      2       0      0   31  \n1         5      2       0      1  NaN  \n2       NaN      2       0      2   31  \n3         5      2       0      3   31  \n4         5      2       0      4   31  \n...     ...    ...     ...    ...  ...  \n1433      5      2      23     55   10  \n1434      5      2      23     56   10  \n1435      5      2      23     57   10  \n1436      5      2     NaN     58   10  \n1437      5      2      23     59   10  \n\n[1438 rows x 127 columns]",
      "text/html": "<div>\n<style scoped>\n    .dataframe tbody tr th:only-of-type {\n        vertical-align: middle;\n    }\n\n    .dataframe tbody tr th {\n        vertical-align: top;\n    }\n\n    .dataframe thead th {\n        text-align: right;\n    }\n</style>\n<table border=\"1\" class=\"dataframe\">\n  <thead>\n    <tr style=\"text-align: right;\">\n      <th></th>\n      <th>Unnamed: 0</th>\n      <th>Ubs,V</th>\n      <th>Ibs,A</th>\n      <th>Isun,A</th>\n      <th>RKPT,b</th>\n      <th>Sst0x,b</th>\n      <th>Sst1x,b</th>\n      <th>Ipt0,A</th>\n      <th>Ipt1,A</th>\n      <th>Ipt2,A</th>\n      <th>...</th>\n      <th>SPrm2,V</th>\n      <th>VP,d</th>\n      <th>ShKom,d</th>\n      <th>Kmnd,d</th>\n      <th>God,h</th>\n      <th>Mes,h</th>\n      <th>Den,h</th>\n      <th>Chas,h</th>\n      <th>Min,h</th>\n      <th>Sec</th>\n    </tr>\n  </thead>\n  <tbody>\n    <tr>\n      <th>0</th>\n      <td>2014-05-02 00:00:31</td>\n      <td>14.63</td>\n      <td>0.27</td>\n      <td>0.13</td>\n      <td>1000000.0</td>\n      <td>NaN</td>\n      <td>0.0</td>\n      <td>0.0</td>\n      <td>0.09</td>\n      <td>0.09</td>\n      <td>...</td>\n      <td>0.98</td>\n      <td>0.0</td>\n      <td>29.0</td>\n      <td>430.0</td>\n      <td>14</td>\n      <td>5</td>\n      <td>2</td>\n      <td>0</td>\n      <td>0</td>\n      <td>31</td>\n    </tr>\n    <tr>\n      <th>1</th>\n      <td>2014-05-02 00:01:31</td>\n      <td>14.76</td>\n      <td>NaN</td>\n      <td>NaN</td>\n      <td>1000000.0</td>\n      <td>110.0</td>\n      <td>0.0</td>\n      <td>NaN</td>\n      <td>NaN</td>\n      <td>0.07</td>\n      <td>...</td>\n      <td>0.96</td>\n      <td>0.0</td>\n      <td>29.0</td>\n      <td>430.0</td>\n      <td>14</td>\n      <td>5</td>\n      <td>2</td>\n      <td>0</td>\n      <td>1</td>\n      <td>NaN</td>\n    </tr>\n    <tr>\n      <th>2</th>\n      <td>2014-05-02 00:02:31</td>\n      <td>13.64</td>\n      <td>0.24</td>\n      <td>0.72</td>\n      <td>1000000.0</td>\n      <td>110.0</td>\n      <td>0.0</td>\n      <td>0.0</td>\n      <td>0.09</td>\n      <td>0.09</td>\n      <td>...</td>\n      <td>0.98</td>\n      <td>0.0</td>\n      <td>29.0</td>\n      <td>NaN</td>\n      <td>NaN</td>\n      <td>NaN</td>\n      <td>2</td>\n      <td>0</td>\n      <td>2</td>\n      <td>31</td>\n    </tr>\n    <tr>\n      <th>3</th>\n      <td>2014-05-02 00:03:31</td>\n      <td>14.69</td>\n      <td>0.21</td>\n      <td>0.56</td>\n      <td>1000000.0</td>\n      <td>110.0</td>\n      <td>0.0</td>\n      <td>0.0</td>\n      <td>0.07</td>\n      <td>0.09</td>\n      <td>...</td>\n      <td>0.98</td>\n      <td>0.0</td>\n      <td>29.0</td>\n      <td>430.0</td>\n      <td>14</td>\n      <td>5</td>\n      <td>2</td>\n      <td>0</td>\n      <td>3</td>\n      <td>31</td>\n    </tr>\n    <tr>\n      <th>4</th>\n      <td>2014-05-02 00:04:31</td>\n      <td>14.76</td>\n      <td>0.21</td>\n      <td>0.83</td>\n      <td>1000000.0</td>\n      <td>110.0</td>\n      <td>0.0</td>\n      <td>0.0</td>\n      <td>0.07</td>\n      <td>0.07</td>\n      <td>...</td>\n      <td>0.96</td>\n      <td>0.0</td>\n      <td>29.0</td>\n      <td>430.0</td>\n      <td>14</td>\n      <td>5</td>\n      <td>2</td>\n      <td>0</td>\n      <td>4</td>\n      <td>31</td>\n    </tr>\n    <tr>\n      <th>...</th>\n      <td>...</td>\n      <td>...</td>\n      <td>...</td>\n      <td>...</td>\n      <td>...</td>\n      <td>...</td>\n      <td>...</td>\n      <td>...</td>\n      <td>...</td>\n      <td>...</td>\n      <td>...</td>\n      <td>...</td>\n      <td>...</td>\n      <td>...</td>\n      <td>...</td>\n      <td>...</td>\n      <td>...</td>\n      <td>...</td>\n      <td>...</td>\n      <td>...</td>\n      <td>...</td>\n    </tr>\n    <tr>\n      <th>1433</th>\n      <td>2014-05-02 23:55:10</td>\n      <td>14.56</td>\n      <td>0.21</td>\n      <td>0.51</td>\n      <td>1000000.0</td>\n      <td>110.0</td>\n      <td>0.0</td>\n      <td>0.0</td>\n      <td>0.09</td>\n      <td>0.07</td>\n      <td>...</td>\n      <td>1.06</td>\n      <td>0.0</td>\n      <td>83.0</td>\n      <td>2771.0</td>\n      <td>14</td>\n      <td>5</td>\n      <td>2</td>\n      <td>23</td>\n      <td>55</td>\n      <td>10</td>\n    </tr>\n    <tr>\n      <th>1434</th>\n      <td>2014-05-02 23:56:10</td>\n      <td>14.56</td>\n      <td>0.21</td>\n      <td>0.64</td>\n      <td>1000000.0</td>\n      <td>110.0</td>\n      <td>0.0</td>\n      <td>0.0</td>\n      <td>0.09</td>\n      <td>0.09</td>\n      <td>...</td>\n      <td>1.02</td>\n      <td>0.0</td>\n      <td>83.0</td>\n      <td>2771.0</td>\n      <td>14</td>\n      <td>5</td>\n      <td>2</td>\n      <td>23</td>\n      <td>56</td>\n      <td>10</td>\n    </tr>\n    <tr>\n      <th>1435</th>\n      <td>2014-05-02 23:57:10</td>\n      <td>14.56</td>\n      <td>0.27</td>\n      <td>0.69</td>\n      <td>1000000.0</td>\n      <td>110.0</td>\n      <td>0.0</td>\n      <td>0.0</td>\n      <td>NaN</td>\n      <td>0.07</td>\n      <td>...</td>\n      <td>0.99</td>\n      <td>0.0</td>\n      <td>83.0</td>\n      <td>2771.0</td>\n      <td>14</td>\n      <td>5</td>\n      <td>2</td>\n      <td>23</td>\n      <td>57</td>\n      <td>10</td>\n    </tr>\n    <tr>\n      <th>1436</th>\n      <td>2014-05-02 23:58:11</td>\n      <td>14.56</td>\n      <td>0.19</td>\n      <td>0.43</td>\n      <td>1000000.0</td>\n      <td>NaN</td>\n      <td>0.0</td>\n      <td>0.0</td>\n      <td>NaN</td>\n      <td>0.13</td>\n      <td>...</td>\n      <td>NaN</td>\n      <td>0.0</td>\n      <td>83.0</td>\n      <td>NaN</td>\n      <td>14</td>\n      <td>5</td>\n      <td>2</td>\n      <td>NaN</td>\n      <td>58</td>\n      <td>10</td>\n    </tr>\n    <tr>\n      <th>1437</th>\n      <td>2014-05-02 23:59:11</td>\n      <td>14.56</td>\n      <td>0.21</td>\n      <td>0.53</td>\n      <td>1000000.0</td>\n      <td>110.0</td>\n      <td>NaN</td>\n      <td>0.0</td>\n      <td>0.07</td>\n      <td>0.07</td>\n      <td>...</td>\n      <td>0.98</td>\n      <td>0.0</td>\n      <td>83.0</td>\n      <td>NaN</td>\n      <td>14</td>\n      <td>5</td>\n      <td>2</td>\n      <td>23</td>\n      <td>59</td>\n      <td>10</td>\n    </tr>\n  </tbody>\n</table>\n<p>1438 rows × 127 columns</p>\n</div>"
     },
     "execution_count": 3,
     "metadata": {},
     "output_type": "execute_result"
    }
   ],
   "source": [
    "data = pd.read_excel('datasets/V1RS41at_02.05.2014ТЗЧ.xlsx')\n",
    "data"
   ],
   "metadata": {
    "collapsed": false
   }
  },
  {
   "cell_type": "markdown",
   "source": [
    "Удаляем необходимые столбцы"
   ],
   "metadata": {
    "collapsed": false
   }
  },
  {
   "cell_type": "code",
   "execution_count": 4,
   "outputs": [
    {
     "data": {
      "text/plain": "      Ubs,V  Ibs,A  Isun,A  Ipt1,A  Ipt2,A  Ipt3,A  Ipt4,A  Ipt5,A  Ipt6,A   \n0     14.63   0.27    0.13    0.09    0.09     0.0     0.0     0.0     0.0  \\\n1     14.76    NaN     NaN     NaN    0.07     0.0     0.0     0.0     0.0   \n2     13.64   0.24    0.72    0.09    0.09     0.0     0.0     0.0     0.0   \n3     14.69   0.21    0.56    0.07    0.09     0.0     0.0     0.0     0.0   \n4     14.76   0.21    0.83    0.07    0.07     0.0     0.0     0.0     0.0   \n...     ...    ...     ...     ...     ...     ...     ...     ...     ...   \n1433  14.56   0.21    0.51    0.09    0.07     0.0     0.0     0.0     0.0   \n1434  14.56   0.21    0.64    0.09    0.09     0.0     0.0     0.0     0.0   \n1435  14.56   0.27    0.69     NaN    0.07     0.0     0.0     0.0     0.0   \n1436  14.56   0.19    0.43     NaN    0.13     0.0     NaN     0.0     0.0   \n1437  14.56   0.21    0.53    0.07    0.07     0.0     0.0     0.0     0.0   \n\n      Ipt7,A  ...  TDS6,C  TDS7,C  TDS8,C  TDS9,C  TKpt,C  TGbv,C  TNap,C   \n0        0.0  ...    15.0    15.0    15.0    15.0    24.0    16.0    16.0  \\\n1        0.0  ...    15.0     NaN     NaN    15.0    24.0    16.0    16.0   \n2        0.0  ...    15.0    16.0    15.0    15.0    24.0    16.0    16.0   \n3        0.0  ...    15.0    16.0    16.0    15.0    24.0    16.0    16.0   \n4        0.0  ...    15.0    16.0    16.0    15.0    24.0    16.0    16.0   \n...      ...  ...     ...     ...     ...     ...     ...     ...     ...   \n1433     0.0  ...    15.0    15.0    15.0    15.0    25.0    18.0    17.0   \n1434     0.0  ...    15.0    15.0    15.0    15.0    25.0    17.0    17.0   \n1435     0.0  ...    15.0    15.0    15.0    15.0    25.0    17.0    17.0   \n1436     0.0  ...    15.0    15.0    15.0    15.0    25.0    17.0     NaN   \n1437     0.0  ...    15.0    15.0    15.0    15.0    25.0    17.0    17.0   \n\n      TPrd2,C  TPrd1,C  TDS24,C  \n0        16.0     16.0     19.0  \n1         NaN     16.0     19.0  \n2        16.0     16.0     19.0  \n3        16.0     16.0     19.0  \n4        17.0     16.0     19.0  \n...       ...      ...      ...  \n1433     17.0     17.0     21.0  \n1434     17.0     17.0     21.0  \n1435     17.0     17.0     21.0  \n1436      NaN     17.0     21.0  \n1437     17.0     17.0     20.0  \n\n[1438 rows x 49 columns]",
      "text/html": "<div>\n<style scoped>\n    .dataframe tbody tr th:only-of-type {\n        vertical-align: middle;\n    }\n\n    .dataframe tbody tr th {\n        vertical-align: top;\n    }\n\n    .dataframe thead th {\n        text-align: right;\n    }\n</style>\n<table border=\"1\" class=\"dataframe\">\n  <thead>\n    <tr style=\"text-align: right;\">\n      <th></th>\n      <th>Ubs,V</th>\n      <th>Ibs,A</th>\n      <th>Isun,A</th>\n      <th>Ipt1,A</th>\n      <th>Ipt2,A</th>\n      <th>Ipt3,A</th>\n      <th>Ipt4,A</th>\n      <th>Ipt5,A</th>\n      <th>Ipt6,A</th>\n      <th>Ipt7,A</th>\n      <th>...</th>\n      <th>TDS6,C</th>\n      <th>TDS7,C</th>\n      <th>TDS8,C</th>\n      <th>TDS9,C</th>\n      <th>TKpt,C</th>\n      <th>TGbv,C</th>\n      <th>TNap,C</th>\n      <th>TPrd2,C</th>\n      <th>TPrd1,C</th>\n      <th>TDS24,C</th>\n    </tr>\n  </thead>\n  <tbody>\n    <tr>\n      <th>0</th>\n      <td>14.63</td>\n      <td>0.27</td>\n      <td>0.13</td>\n      <td>0.09</td>\n      <td>0.09</td>\n      <td>0.0</td>\n      <td>0.0</td>\n      <td>0.0</td>\n      <td>0.0</td>\n      <td>0.0</td>\n      <td>...</td>\n      <td>15.0</td>\n      <td>15.0</td>\n      <td>15.0</td>\n      <td>15.0</td>\n      <td>24.0</td>\n      <td>16.0</td>\n      <td>16.0</td>\n      <td>16.0</td>\n      <td>16.0</td>\n      <td>19.0</td>\n    </tr>\n    <tr>\n      <th>1</th>\n      <td>14.76</td>\n      <td>NaN</td>\n      <td>NaN</td>\n      <td>NaN</td>\n      <td>0.07</td>\n      <td>0.0</td>\n      <td>0.0</td>\n      <td>0.0</td>\n      <td>0.0</td>\n      <td>0.0</td>\n      <td>...</td>\n      <td>15.0</td>\n      <td>NaN</td>\n      <td>NaN</td>\n      <td>15.0</td>\n      <td>24.0</td>\n      <td>16.0</td>\n      <td>16.0</td>\n      <td>NaN</td>\n      <td>16.0</td>\n      <td>19.0</td>\n    </tr>\n    <tr>\n      <th>2</th>\n      <td>13.64</td>\n      <td>0.24</td>\n      <td>0.72</td>\n      <td>0.09</td>\n      <td>0.09</td>\n      <td>0.0</td>\n      <td>0.0</td>\n      <td>0.0</td>\n      <td>0.0</td>\n      <td>0.0</td>\n      <td>...</td>\n      <td>15.0</td>\n      <td>16.0</td>\n      <td>15.0</td>\n      <td>15.0</td>\n      <td>24.0</td>\n      <td>16.0</td>\n      <td>16.0</td>\n      <td>16.0</td>\n      <td>16.0</td>\n      <td>19.0</td>\n    </tr>\n    <tr>\n      <th>3</th>\n      <td>14.69</td>\n      <td>0.21</td>\n      <td>0.56</td>\n      <td>0.07</td>\n      <td>0.09</td>\n      <td>0.0</td>\n      <td>0.0</td>\n      <td>0.0</td>\n      <td>0.0</td>\n      <td>0.0</td>\n      <td>...</td>\n      <td>15.0</td>\n      <td>16.0</td>\n      <td>16.0</td>\n      <td>15.0</td>\n      <td>24.0</td>\n      <td>16.0</td>\n      <td>16.0</td>\n      <td>16.0</td>\n      <td>16.0</td>\n      <td>19.0</td>\n    </tr>\n    <tr>\n      <th>4</th>\n      <td>14.76</td>\n      <td>0.21</td>\n      <td>0.83</td>\n      <td>0.07</td>\n      <td>0.07</td>\n      <td>0.0</td>\n      <td>0.0</td>\n      <td>0.0</td>\n      <td>0.0</td>\n      <td>0.0</td>\n      <td>...</td>\n      <td>15.0</td>\n      <td>16.0</td>\n      <td>16.0</td>\n      <td>15.0</td>\n      <td>24.0</td>\n      <td>16.0</td>\n      <td>16.0</td>\n      <td>17.0</td>\n      <td>16.0</td>\n      <td>19.0</td>\n    </tr>\n    <tr>\n      <th>...</th>\n      <td>...</td>\n      <td>...</td>\n      <td>...</td>\n      <td>...</td>\n      <td>...</td>\n      <td>...</td>\n      <td>...</td>\n      <td>...</td>\n      <td>...</td>\n      <td>...</td>\n      <td>...</td>\n      <td>...</td>\n      <td>...</td>\n      <td>...</td>\n      <td>...</td>\n      <td>...</td>\n      <td>...</td>\n      <td>...</td>\n      <td>...</td>\n      <td>...</td>\n      <td>...</td>\n    </tr>\n    <tr>\n      <th>1433</th>\n      <td>14.56</td>\n      <td>0.21</td>\n      <td>0.51</td>\n      <td>0.09</td>\n      <td>0.07</td>\n      <td>0.0</td>\n      <td>0.0</td>\n      <td>0.0</td>\n      <td>0.0</td>\n      <td>0.0</td>\n      <td>...</td>\n      <td>15.0</td>\n      <td>15.0</td>\n      <td>15.0</td>\n      <td>15.0</td>\n      <td>25.0</td>\n      <td>18.0</td>\n      <td>17.0</td>\n      <td>17.0</td>\n      <td>17.0</td>\n      <td>21.0</td>\n    </tr>\n    <tr>\n      <th>1434</th>\n      <td>14.56</td>\n      <td>0.21</td>\n      <td>0.64</td>\n      <td>0.09</td>\n      <td>0.09</td>\n      <td>0.0</td>\n      <td>0.0</td>\n      <td>0.0</td>\n      <td>0.0</td>\n      <td>0.0</td>\n      <td>...</td>\n      <td>15.0</td>\n      <td>15.0</td>\n      <td>15.0</td>\n      <td>15.0</td>\n      <td>25.0</td>\n      <td>17.0</td>\n      <td>17.0</td>\n      <td>17.0</td>\n      <td>17.0</td>\n      <td>21.0</td>\n    </tr>\n    <tr>\n      <th>1435</th>\n      <td>14.56</td>\n      <td>0.27</td>\n      <td>0.69</td>\n      <td>NaN</td>\n      <td>0.07</td>\n      <td>0.0</td>\n      <td>0.0</td>\n      <td>0.0</td>\n      <td>0.0</td>\n      <td>0.0</td>\n      <td>...</td>\n      <td>15.0</td>\n      <td>15.0</td>\n      <td>15.0</td>\n      <td>15.0</td>\n      <td>25.0</td>\n      <td>17.0</td>\n      <td>17.0</td>\n      <td>17.0</td>\n      <td>17.0</td>\n      <td>21.0</td>\n    </tr>\n    <tr>\n      <th>1436</th>\n      <td>14.56</td>\n      <td>0.19</td>\n      <td>0.43</td>\n      <td>NaN</td>\n      <td>0.13</td>\n      <td>0.0</td>\n      <td>NaN</td>\n      <td>0.0</td>\n      <td>0.0</td>\n      <td>0.0</td>\n      <td>...</td>\n      <td>15.0</td>\n      <td>15.0</td>\n      <td>15.0</td>\n      <td>15.0</td>\n      <td>25.0</td>\n      <td>17.0</td>\n      <td>NaN</td>\n      <td>NaN</td>\n      <td>17.0</td>\n      <td>21.0</td>\n    </tr>\n    <tr>\n      <th>1437</th>\n      <td>14.56</td>\n      <td>0.21</td>\n      <td>0.53</td>\n      <td>0.07</td>\n      <td>0.07</td>\n      <td>0.0</td>\n      <td>0.0</td>\n      <td>0.0</td>\n      <td>0.0</td>\n      <td>0.0</td>\n      <td>...</td>\n      <td>15.0</td>\n      <td>15.0</td>\n      <td>15.0</td>\n      <td>15.0</td>\n      <td>25.0</td>\n      <td>17.0</td>\n      <td>17.0</td>\n      <td>17.0</td>\n      <td>17.0</td>\n      <td>20.0</td>\n    </tr>\n  </tbody>\n</table>\n<p>1438 rows × 49 columns</p>\n</div>"
     },
     "execution_count": 4,
     "metadata": {},
     "output_type": "execute_result"
    }
   ],
   "source": [
    "signs_to_remove = ['RKPT,b','Sst0x,b','Sst1x,b','Ipt0,A', 'Mag0F', 'Mag10', 'Mag11', 'Mag12', 'Mag13',\n",
    "                   'Mag14','Mag15','Mag16','Isp1,A','Isp2,A','Isp3,A','Isp4,A','Isp5,A','Isp6,A','Isp7,A',\n",
    "                   'Isp8,A','Mag07','Mag08','Mag09','Mag0A','Mag0B','Mag0C','Mag0D','Mag0E','Mag03','Mag04',\n",
    "                   'Mag05','Mag06','TDS11,C','TDS12,C','TDS14,C','TDS15,C','TDS17,C','TDS18,C','TDS20,C',\n",
    "                   'TDS21,C','TDS23,C','iTMO,s','iTMD,s','U-chCAN', 'SSoTR,b','STDS12,b','STDS34,b','res0',\n",
    "                   'U-MAG,o','U-KPT1,o','U-KPT2,o','U-InfGBV','U-GBV,o','U-InfNAP','TmUpr,b','RKwit,b','Rmorz,b',\n",
    "                   'IntK_TM', 'RPrd1,b','RPrm1,b','RPrd2,b','RPrm2,b','FPrd1,V','RPrd1,V','FPrd2,V','RPrd2,V','SPrm1,V',\n",
    "                   'SPrm2,V','VP,d','ShKom,d','Kmnd,d','God,h','Mes,h','Den,h','Chas,h', 'Min,h', 'Sec']\n",
    "cleared_data = data.copy()\n",
    "cleared_data.drop(data.columns[[0]], axis=1, inplace=True)\n",
    "for sign in signs_to_remove:\n",
    "    cleared_data.drop(columns=[sign], axis= 1, inplace=True)\n",
    "cleared_data"
   ],
   "metadata": {
    "collapsed": false
   }
  },
  {
   "cell_type": "markdown",
   "source": [
    "Заполняем пустые значения"
   ],
   "metadata": {
    "collapsed": false
   }
  },
  {
   "cell_type": "code",
   "execution_count": 5,
   "outputs": [
    {
     "data": {
      "text/plain": "      Ubs,V  Ibs,A  Isun,A  Ipt1,A  Ipt2,A  Ipt3,A  Ipt4,A  Ipt5,A  Ipt6,A   \n0     14.63   0.27    0.13    0.09    0.09     0.0     0.0     0.0     0.0  \\\n1     14.76   0.27    0.13    0.09    0.07     0.0     0.0     0.0     0.0   \n2     13.64   0.24    0.72    0.09    0.09     0.0     0.0     0.0     0.0   \n3     14.69   0.21    0.56    0.07    0.09     0.0     0.0     0.0     0.0   \n4     14.76   0.21    0.83    0.07    0.07     0.0     0.0     0.0     0.0   \n...     ...    ...     ...     ...     ...     ...     ...     ...     ...   \n1433  14.56   0.21    0.51    0.09    0.07     0.0     0.0     0.0     0.0   \n1434  14.56   0.21    0.64    0.09    0.09     0.0     0.0     0.0     0.0   \n1435  14.56   0.27    0.69    0.09    0.07     0.0     0.0     0.0     0.0   \n1436  14.56   0.19    0.43    0.09    0.13     0.0     0.0     0.0     0.0   \n1437  14.56   0.21    0.53    0.07    0.07     0.0     0.0     0.0     0.0   \n\n      Ipt7,A  ...  TDS6,C  TDS7,C  TDS8,C  TDS9,C  TKpt,C  TGbv,C  TNap,C   \n0        0.0  ...    15.0    15.0    15.0    15.0    24.0    16.0    16.0  \\\n1        0.0  ...    15.0    15.0    15.0    15.0    24.0    16.0    16.0   \n2        0.0  ...    15.0    16.0    15.0    15.0    24.0    16.0    16.0   \n3        0.0  ...    15.0    16.0    16.0    15.0    24.0    16.0    16.0   \n4        0.0  ...    15.0    16.0    16.0    15.0    24.0    16.0    16.0   \n...      ...  ...     ...     ...     ...     ...     ...     ...     ...   \n1433     0.0  ...    15.0    15.0    15.0    15.0    25.0    18.0    17.0   \n1434     0.0  ...    15.0    15.0    15.0    15.0    25.0    17.0    17.0   \n1435     0.0  ...    15.0    15.0    15.0    15.0    25.0    17.0    17.0   \n1436     0.0  ...    15.0    15.0    15.0    15.0    25.0    17.0    17.0   \n1437     0.0  ...    15.0    15.0    15.0    15.0    25.0    17.0    17.0   \n\n      TPrd2,C  TPrd1,C  TDS24,C  \n0        16.0     16.0     19.0  \n1        16.0     16.0     19.0  \n2        16.0     16.0     19.0  \n3        16.0     16.0     19.0  \n4        17.0     16.0     19.0  \n...       ...      ...      ...  \n1433     17.0     17.0     21.0  \n1434     17.0     17.0     21.0  \n1435     17.0     17.0     21.0  \n1436     17.0     17.0     21.0  \n1437     17.0     17.0     20.0  \n\n[1438 rows x 49 columns]",
      "text/html": "<div>\n<style scoped>\n    .dataframe tbody tr th:only-of-type {\n        vertical-align: middle;\n    }\n\n    .dataframe tbody tr th {\n        vertical-align: top;\n    }\n\n    .dataframe thead th {\n        text-align: right;\n    }\n</style>\n<table border=\"1\" class=\"dataframe\">\n  <thead>\n    <tr style=\"text-align: right;\">\n      <th></th>\n      <th>Ubs,V</th>\n      <th>Ibs,A</th>\n      <th>Isun,A</th>\n      <th>Ipt1,A</th>\n      <th>Ipt2,A</th>\n      <th>Ipt3,A</th>\n      <th>Ipt4,A</th>\n      <th>Ipt5,A</th>\n      <th>Ipt6,A</th>\n      <th>Ipt7,A</th>\n      <th>...</th>\n      <th>TDS6,C</th>\n      <th>TDS7,C</th>\n      <th>TDS8,C</th>\n      <th>TDS9,C</th>\n      <th>TKpt,C</th>\n      <th>TGbv,C</th>\n      <th>TNap,C</th>\n      <th>TPrd2,C</th>\n      <th>TPrd1,C</th>\n      <th>TDS24,C</th>\n    </tr>\n  </thead>\n  <tbody>\n    <tr>\n      <th>0</th>\n      <td>14.63</td>\n      <td>0.27</td>\n      <td>0.13</td>\n      <td>0.09</td>\n      <td>0.09</td>\n      <td>0.0</td>\n      <td>0.0</td>\n      <td>0.0</td>\n      <td>0.0</td>\n      <td>0.0</td>\n      <td>...</td>\n      <td>15.0</td>\n      <td>15.0</td>\n      <td>15.0</td>\n      <td>15.0</td>\n      <td>24.0</td>\n      <td>16.0</td>\n      <td>16.0</td>\n      <td>16.0</td>\n      <td>16.0</td>\n      <td>19.0</td>\n    </tr>\n    <tr>\n      <th>1</th>\n      <td>14.76</td>\n      <td>0.27</td>\n      <td>0.13</td>\n      <td>0.09</td>\n      <td>0.07</td>\n      <td>0.0</td>\n      <td>0.0</td>\n      <td>0.0</td>\n      <td>0.0</td>\n      <td>0.0</td>\n      <td>...</td>\n      <td>15.0</td>\n      <td>15.0</td>\n      <td>15.0</td>\n      <td>15.0</td>\n      <td>24.0</td>\n      <td>16.0</td>\n      <td>16.0</td>\n      <td>16.0</td>\n      <td>16.0</td>\n      <td>19.0</td>\n    </tr>\n    <tr>\n      <th>2</th>\n      <td>13.64</td>\n      <td>0.24</td>\n      <td>0.72</td>\n      <td>0.09</td>\n      <td>0.09</td>\n      <td>0.0</td>\n      <td>0.0</td>\n      <td>0.0</td>\n      <td>0.0</td>\n      <td>0.0</td>\n      <td>...</td>\n      <td>15.0</td>\n      <td>16.0</td>\n      <td>15.0</td>\n      <td>15.0</td>\n      <td>24.0</td>\n      <td>16.0</td>\n      <td>16.0</td>\n      <td>16.0</td>\n      <td>16.0</td>\n      <td>19.0</td>\n    </tr>\n    <tr>\n      <th>3</th>\n      <td>14.69</td>\n      <td>0.21</td>\n      <td>0.56</td>\n      <td>0.07</td>\n      <td>0.09</td>\n      <td>0.0</td>\n      <td>0.0</td>\n      <td>0.0</td>\n      <td>0.0</td>\n      <td>0.0</td>\n      <td>...</td>\n      <td>15.0</td>\n      <td>16.0</td>\n      <td>16.0</td>\n      <td>15.0</td>\n      <td>24.0</td>\n      <td>16.0</td>\n      <td>16.0</td>\n      <td>16.0</td>\n      <td>16.0</td>\n      <td>19.0</td>\n    </tr>\n    <tr>\n      <th>4</th>\n      <td>14.76</td>\n      <td>0.21</td>\n      <td>0.83</td>\n      <td>0.07</td>\n      <td>0.07</td>\n      <td>0.0</td>\n      <td>0.0</td>\n      <td>0.0</td>\n      <td>0.0</td>\n      <td>0.0</td>\n      <td>...</td>\n      <td>15.0</td>\n      <td>16.0</td>\n      <td>16.0</td>\n      <td>15.0</td>\n      <td>24.0</td>\n      <td>16.0</td>\n      <td>16.0</td>\n      <td>17.0</td>\n      <td>16.0</td>\n      <td>19.0</td>\n    </tr>\n    <tr>\n      <th>...</th>\n      <td>...</td>\n      <td>...</td>\n      <td>...</td>\n      <td>...</td>\n      <td>...</td>\n      <td>...</td>\n      <td>...</td>\n      <td>...</td>\n      <td>...</td>\n      <td>...</td>\n      <td>...</td>\n      <td>...</td>\n      <td>...</td>\n      <td>...</td>\n      <td>...</td>\n      <td>...</td>\n      <td>...</td>\n      <td>...</td>\n      <td>...</td>\n      <td>...</td>\n      <td>...</td>\n    </tr>\n    <tr>\n      <th>1433</th>\n      <td>14.56</td>\n      <td>0.21</td>\n      <td>0.51</td>\n      <td>0.09</td>\n      <td>0.07</td>\n      <td>0.0</td>\n      <td>0.0</td>\n      <td>0.0</td>\n      <td>0.0</td>\n      <td>0.0</td>\n      <td>...</td>\n      <td>15.0</td>\n      <td>15.0</td>\n      <td>15.0</td>\n      <td>15.0</td>\n      <td>25.0</td>\n      <td>18.0</td>\n      <td>17.0</td>\n      <td>17.0</td>\n      <td>17.0</td>\n      <td>21.0</td>\n    </tr>\n    <tr>\n      <th>1434</th>\n      <td>14.56</td>\n      <td>0.21</td>\n      <td>0.64</td>\n      <td>0.09</td>\n      <td>0.09</td>\n      <td>0.0</td>\n      <td>0.0</td>\n      <td>0.0</td>\n      <td>0.0</td>\n      <td>0.0</td>\n      <td>...</td>\n      <td>15.0</td>\n      <td>15.0</td>\n      <td>15.0</td>\n      <td>15.0</td>\n      <td>25.0</td>\n      <td>17.0</td>\n      <td>17.0</td>\n      <td>17.0</td>\n      <td>17.0</td>\n      <td>21.0</td>\n    </tr>\n    <tr>\n      <th>1435</th>\n      <td>14.56</td>\n      <td>0.27</td>\n      <td>0.69</td>\n      <td>0.09</td>\n      <td>0.07</td>\n      <td>0.0</td>\n      <td>0.0</td>\n      <td>0.0</td>\n      <td>0.0</td>\n      <td>0.0</td>\n      <td>...</td>\n      <td>15.0</td>\n      <td>15.0</td>\n      <td>15.0</td>\n      <td>15.0</td>\n      <td>25.0</td>\n      <td>17.0</td>\n      <td>17.0</td>\n      <td>17.0</td>\n      <td>17.0</td>\n      <td>21.0</td>\n    </tr>\n    <tr>\n      <th>1436</th>\n      <td>14.56</td>\n      <td>0.19</td>\n      <td>0.43</td>\n      <td>0.09</td>\n      <td>0.13</td>\n      <td>0.0</td>\n      <td>0.0</td>\n      <td>0.0</td>\n      <td>0.0</td>\n      <td>0.0</td>\n      <td>...</td>\n      <td>15.0</td>\n      <td>15.0</td>\n      <td>15.0</td>\n      <td>15.0</td>\n      <td>25.0</td>\n      <td>17.0</td>\n      <td>17.0</td>\n      <td>17.0</td>\n      <td>17.0</td>\n      <td>21.0</td>\n    </tr>\n    <tr>\n      <th>1437</th>\n      <td>14.56</td>\n      <td>0.21</td>\n      <td>0.53</td>\n      <td>0.07</td>\n      <td>0.07</td>\n      <td>0.0</td>\n      <td>0.0</td>\n      <td>0.0</td>\n      <td>0.0</td>\n      <td>0.0</td>\n      <td>...</td>\n      <td>15.0</td>\n      <td>15.0</td>\n      <td>15.0</td>\n      <td>15.0</td>\n      <td>25.0</td>\n      <td>17.0</td>\n      <td>17.0</td>\n      <td>17.0</td>\n      <td>17.0</td>\n      <td>20.0</td>\n    </tr>\n  </tbody>\n</table>\n<p>1438 rows × 49 columns</p>\n</div>"
     },
     "execution_count": 5,
     "metadata": {},
     "output_type": "execute_result"
    }
   ],
   "source": [
    "data_filled = cleared_data.copy()\n",
    "data_filled = data_filled.fillna(method='ffill')\n",
    "data_filled"
   ],
   "metadata": {
    "collapsed": false
   }
  },
  {
   "cell_type": "markdown",
   "source": [
    "Выполним преобразование данных"
   ],
   "metadata": {
    "collapsed": false
   }
  },
  {
   "cell_type": "code",
   "execution_count": 6,
   "outputs": [
    {
     "data": {
      "text/plain": "            0         1         2         3         4    5    6    7    8    \n0     0.887993  0.035556  0.019345  0.027778  0.017176  0.0  0.0  0.0  0.0  \\\n1     0.899642  0.035556  0.019345  0.027778  0.013359  0.0  0.0  0.0  0.0   \n2     0.799283  0.028889  0.107143  0.027778  0.017176  0.0  0.0  0.0  0.0   \n3     0.893369  0.022222  0.083333  0.021605  0.017176  0.0  0.0  0.0  0.0   \n4     0.899642  0.022222  0.123512  0.021605  0.013359  0.0  0.0  0.0  0.0   \n...        ...       ...       ...       ...       ...  ...  ...  ...  ...   \n1433  0.881720  0.022222  0.075893  0.027778  0.013359  0.0  0.0  0.0  0.0   \n1434  0.881720  0.022222  0.095238  0.027778  0.017176  0.0  0.0  0.0  0.0   \n1435  0.881720  0.035556  0.102679  0.027778  0.013359  0.0  0.0  0.0  0.0   \n1436  0.881720  0.017778  0.063988  0.027778  0.024809  0.0  0.0  0.0  0.0   \n1437  0.881720  0.022222  0.078869  0.021605  0.013359  0.0  0.0  0.0  0.0   \n\n       9   ...        39        40        41        42        43        44   \n0     0.0  ...  0.711443  0.687500  0.959732  0.711443  0.713615  0.716418  \\\n1     0.0  ...  0.711443  0.687500  0.959732  0.711443  0.713615  0.716418   \n2     0.0  ...  0.711443  0.692308  0.959732  0.711443  0.713615  0.716418   \n3     0.0  ...  0.711443  0.692308  0.966443  0.711443  0.713615  0.716418   \n4     0.0  ...  0.711443  0.692308  0.966443  0.711443  0.713615  0.716418   \n...   ...  ...       ...       ...       ...       ...       ...       ...   \n1433  0.0  ...  0.711443  0.687500  0.959732  0.711443  0.718310  0.726368   \n1434  0.0  ...  0.711443  0.687500  0.959732  0.711443  0.718310  0.721393   \n1435  0.0  ...  0.711443  0.687500  0.959732  0.711443  0.718310  0.721393   \n1436  0.0  ...  0.711443  0.687500  0.959732  0.711443  0.718310  0.721393   \n1437  0.0  ...  0.711443  0.687500  0.959732  0.711443  0.718310  0.721393   \n\n            45        46        47        48  \n0     0.911392  0.716418  0.842105  0.727723  \n1     0.911392  0.716418  0.842105  0.727723  \n2     0.911392  0.716418  0.842105  0.727723  \n3     0.911392  0.716418  0.842105  0.727723  \n4     0.911392  0.721393  0.842105  0.727723  \n...        ...       ...       ...       ...  \n1433  0.917722  0.721393  0.847953  0.737624  \n1434  0.917722  0.721393  0.847953  0.737624  \n1435  0.917722  0.721393  0.847953  0.737624  \n1436  0.917722  0.721393  0.847953  0.737624  \n1437  0.917722  0.721393  0.847953  0.732673  \n\n[1438 rows x 49 columns]",
      "text/html": "<div>\n<style scoped>\n    .dataframe tbody tr th:only-of-type {\n        vertical-align: middle;\n    }\n\n    .dataframe tbody tr th {\n        vertical-align: top;\n    }\n\n    .dataframe thead th {\n        text-align: right;\n    }\n</style>\n<table border=\"1\" class=\"dataframe\">\n  <thead>\n    <tr style=\"text-align: right;\">\n      <th></th>\n      <th>0</th>\n      <th>1</th>\n      <th>2</th>\n      <th>3</th>\n      <th>4</th>\n      <th>5</th>\n      <th>6</th>\n      <th>7</th>\n      <th>8</th>\n      <th>9</th>\n      <th>...</th>\n      <th>39</th>\n      <th>40</th>\n      <th>41</th>\n      <th>42</th>\n      <th>43</th>\n      <th>44</th>\n      <th>45</th>\n      <th>46</th>\n      <th>47</th>\n      <th>48</th>\n    </tr>\n  </thead>\n  <tbody>\n    <tr>\n      <th>0</th>\n      <td>0.887993</td>\n      <td>0.035556</td>\n      <td>0.019345</td>\n      <td>0.027778</td>\n      <td>0.017176</td>\n      <td>0.0</td>\n      <td>0.0</td>\n      <td>0.0</td>\n      <td>0.0</td>\n      <td>0.0</td>\n      <td>...</td>\n      <td>0.711443</td>\n      <td>0.687500</td>\n      <td>0.959732</td>\n      <td>0.711443</td>\n      <td>0.713615</td>\n      <td>0.716418</td>\n      <td>0.911392</td>\n      <td>0.716418</td>\n      <td>0.842105</td>\n      <td>0.727723</td>\n    </tr>\n    <tr>\n      <th>1</th>\n      <td>0.899642</td>\n      <td>0.035556</td>\n      <td>0.019345</td>\n      <td>0.027778</td>\n      <td>0.013359</td>\n      <td>0.0</td>\n      <td>0.0</td>\n      <td>0.0</td>\n      <td>0.0</td>\n      <td>0.0</td>\n      <td>...</td>\n      <td>0.711443</td>\n      <td>0.687500</td>\n      <td>0.959732</td>\n      <td>0.711443</td>\n      <td>0.713615</td>\n      <td>0.716418</td>\n      <td>0.911392</td>\n      <td>0.716418</td>\n      <td>0.842105</td>\n      <td>0.727723</td>\n    </tr>\n    <tr>\n      <th>2</th>\n      <td>0.799283</td>\n      <td>0.028889</td>\n      <td>0.107143</td>\n      <td>0.027778</td>\n      <td>0.017176</td>\n      <td>0.0</td>\n      <td>0.0</td>\n      <td>0.0</td>\n      <td>0.0</td>\n      <td>0.0</td>\n      <td>...</td>\n      <td>0.711443</td>\n      <td>0.692308</td>\n      <td>0.959732</td>\n      <td>0.711443</td>\n      <td>0.713615</td>\n      <td>0.716418</td>\n      <td>0.911392</td>\n      <td>0.716418</td>\n      <td>0.842105</td>\n      <td>0.727723</td>\n    </tr>\n    <tr>\n      <th>3</th>\n      <td>0.893369</td>\n      <td>0.022222</td>\n      <td>0.083333</td>\n      <td>0.021605</td>\n      <td>0.017176</td>\n      <td>0.0</td>\n      <td>0.0</td>\n      <td>0.0</td>\n      <td>0.0</td>\n      <td>0.0</td>\n      <td>...</td>\n      <td>0.711443</td>\n      <td>0.692308</td>\n      <td>0.966443</td>\n      <td>0.711443</td>\n      <td>0.713615</td>\n      <td>0.716418</td>\n      <td>0.911392</td>\n      <td>0.716418</td>\n      <td>0.842105</td>\n      <td>0.727723</td>\n    </tr>\n    <tr>\n      <th>4</th>\n      <td>0.899642</td>\n      <td>0.022222</td>\n      <td>0.123512</td>\n      <td>0.021605</td>\n      <td>0.013359</td>\n      <td>0.0</td>\n      <td>0.0</td>\n      <td>0.0</td>\n      <td>0.0</td>\n      <td>0.0</td>\n      <td>...</td>\n      <td>0.711443</td>\n      <td>0.692308</td>\n      <td>0.966443</td>\n      <td>0.711443</td>\n      <td>0.713615</td>\n      <td>0.716418</td>\n      <td>0.911392</td>\n      <td>0.721393</td>\n      <td>0.842105</td>\n      <td>0.727723</td>\n    </tr>\n    <tr>\n      <th>...</th>\n      <td>...</td>\n      <td>...</td>\n      <td>...</td>\n      <td>...</td>\n      <td>...</td>\n      <td>...</td>\n      <td>...</td>\n      <td>...</td>\n      <td>...</td>\n      <td>...</td>\n      <td>...</td>\n      <td>...</td>\n      <td>...</td>\n      <td>...</td>\n      <td>...</td>\n      <td>...</td>\n      <td>...</td>\n      <td>...</td>\n      <td>...</td>\n      <td>...</td>\n      <td>...</td>\n    </tr>\n    <tr>\n      <th>1433</th>\n      <td>0.881720</td>\n      <td>0.022222</td>\n      <td>0.075893</td>\n      <td>0.027778</td>\n      <td>0.013359</td>\n      <td>0.0</td>\n      <td>0.0</td>\n      <td>0.0</td>\n      <td>0.0</td>\n      <td>0.0</td>\n      <td>...</td>\n      <td>0.711443</td>\n      <td>0.687500</td>\n      <td>0.959732</td>\n      <td>0.711443</td>\n      <td>0.718310</td>\n      <td>0.726368</td>\n      <td>0.917722</td>\n      <td>0.721393</td>\n      <td>0.847953</td>\n      <td>0.737624</td>\n    </tr>\n    <tr>\n      <th>1434</th>\n      <td>0.881720</td>\n      <td>0.022222</td>\n      <td>0.095238</td>\n      <td>0.027778</td>\n      <td>0.017176</td>\n      <td>0.0</td>\n      <td>0.0</td>\n      <td>0.0</td>\n      <td>0.0</td>\n      <td>0.0</td>\n      <td>...</td>\n      <td>0.711443</td>\n      <td>0.687500</td>\n      <td>0.959732</td>\n      <td>0.711443</td>\n      <td>0.718310</td>\n      <td>0.721393</td>\n      <td>0.917722</td>\n      <td>0.721393</td>\n      <td>0.847953</td>\n      <td>0.737624</td>\n    </tr>\n    <tr>\n      <th>1435</th>\n      <td>0.881720</td>\n      <td>0.035556</td>\n      <td>0.102679</td>\n      <td>0.027778</td>\n      <td>0.013359</td>\n      <td>0.0</td>\n      <td>0.0</td>\n      <td>0.0</td>\n      <td>0.0</td>\n      <td>0.0</td>\n      <td>...</td>\n      <td>0.711443</td>\n      <td>0.687500</td>\n      <td>0.959732</td>\n      <td>0.711443</td>\n      <td>0.718310</td>\n      <td>0.721393</td>\n      <td>0.917722</td>\n      <td>0.721393</td>\n      <td>0.847953</td>\n      <td>0.737624</td>\n    </tr>\n    <tr>\n      <th>1436</th>\n      <td>0.881720</td>\n      <td>0.017778</td>\n      <td>0.063988</td>\n      <td>0.027778</td>\n      <td>0.024809</td>\n      <td>0.0</td>\n      <td>0.0</td>\n      <td>0.0</td>\n      <td>0.0</td>\n      <td>0.0</td>\n      <td>...</td>\n      <td>0.711443</td>\n      <td>0.687500</td>\n      <td>0.959732</td>\n      <td>0.711443</td>\n      <td>0.718310</td>\n      <td>0.721393</td>\n      <td>0.917722</td>\n      <td>0.721393</td>\n      <td>0.847953</td>\n      <td>0.737624</td>\n    </tr>\n    <tr>\n      <th>1437</th>\n      <td>0.881720</td>\n      <td>0.022222</td>\n      <td>0.078869</td>\n      <td>0.021605</td>\n      <td>0.013359</td>\n      <td>0.0</td>\n      <td>0.0</td>\n      <td>0.0</td>\n      <td>0.0</td>\n      <td>0.0</td>\n      <td>...</td>\n      <td>0.711443</td>\n      <td>0.687500</td>\n      <td>0.959732</td>\n      <td>0.711443</td>\n      <td>0.718310</td>\n      <td>0.721393</td>\n      <td>0.917722</td>\n      <td>0.721393</td>\n      <td>0.847953</td>\n      <td>0.732673</td>\n    </tr>\n  </tbody>\n</table>\n<p>1438 rows × 49 columns</p>\n</div>"
     },
     "execution_count": 6,
     "metadata": {},
     "output_type": "execute_result"
    }
   ],
   "source": [
    "# Преобразовываем исходный набор\n",
    "scaler = MinMaxScaler(feature_range=(0, 1))\n",
    "rescaled_data = pd.DataFrame(scaler.fit_transform(data_filled))\n",
    "rescaled_data"
   ],
   "metadata": {
    "collapsed": false
   }
  },
  {
   "cell_type": "markdown",
   "source": [
    "Присоединяем столб классов"
   ],
   "metadata": {
    "collapsed": false
   }
  },
  {
   "cell_type": "code",
   "execution_count": 7,
   "outputs": [
    {
     "data": {
      "text/plain": "      Ubs,V  Ibs,A  Isun,A  Ipt1,A  Ipt2,A  Ipt3,A  Ipt4,A  Ipt5,A  Ipt6,A   \n0     14.63   0.27    0.13    0.09    0.09     0.0     0.0     0.0     0.0  \\\n1     14.76   0.27    0.13    0.09    0.07     0.0     0.0     0.0     0.0   \n2     13.64   0.24    0.72    0.09    0.09     0.0     0.0     0.0     0.0   \n3     14.69   0.21    0.56    0.07    0.09     0.0     0.0     0.0     0.0   \n4     14.76   0.21    0.83    0.07    0.07     0.0     0.0     0.0     0.0   \n...     ...    ...     ...     ...     ...     ...     ...     ...     ...   \n1433  14.56   0.21    0.51    0.09    0.07     0.0     0.0     0.0     0.0   \n1434  14.56   0.21    0.64    0.09    0.09     0.0     0.0     0.0     0.0   \n1435  14.56   0.27    0.69    0.09    0.07     0.0     0.0     0.0     0.0   \n1436  14.56   0.19    0.43    0.09    0.13     0.0     0.0     0.0     0.0   \n1437  14.56   0.21    0.53    0.07    0.07     0.0     0.0     0.0     0.0   \n\n      Ipt7,A  ...  TDS7,C  TDS8,C  TDS9,C  TKpt,C  TGbv,C  TNap,C  TPrd2,C   \n0        0.0  ...    15.0    15.0    15.0    24.0    16.0    16.0     16.0  \\\n1        0.0  ...    15.0    15.0    15.0    24.0    16.0    16.0     16.0   \n2        0.0  ...    16.0    15.0    15.0    24.0    16.0    16.0     16.0   \n3        0.0  ...    16.0    16.0    15.0    24.0    16.0    16.0     16.0   \n4        0.0  ...    16.0    16.0    15.0    24.0    16.0    16.0     17.0   \n...      ...  ...     ...     ...     ...     ...     ...     ...      ...   \n1433     0.0  ...    15.0    15.0    15.0    25.0    18.0    17.0     17.0   \n1434     0.0  ...    15.0    15.0    15.0    25.0    17.0    17.0     17.0   \n1435     0.0  ...    15.0    15.0    15.0    25.0    17.0    17.0     17.0   \n1436     0.0  ...    15.0    15.0    15.0    25.0    17.0    17.0     17.0   \n1437     0.0  ...    15.0    15.0    15.0    25.0    17.0    17.0     17.0   \n\n      TPrd1,C  TDS24,C  Class  \n0        16.0     19.0      0  \n1        16.0     19.0      0  \n2        16.0     19.0      0  \n3        16.0     19.0      0  \n4        16.0     19.0      0  \n...       ...      ...    ...  \n1433     17.0     21.0      0  \n1434     17.0     21.0      0  \n1435     17.0     21.0      0  \n1436     17.0     21.0      2  \n1437     17.0     20.0      2  \n\n[1438 rows x 50 columns]",
      "text/html": "<div>\n<style scoped>\n    .dataframe tbody tr th:only-of-type {\n        vertical-align: middle;\n    }\n\n    .dataframe tbody tr th {\n        vertical-align: top;\n    }\n\n    .dataframe thead th {\n        text-align: right;\n    }\n</style>\n<table border=\"1\" class=\"dataframe\">\n  <thead>\n    <tr style=\"text-align: right;\">\n      <th></th>\n      <th>Ubs,V</th>\n      <th>Ibs,A</th>\n      <th>Isun,A</th>\n      <th>Ipt1,A</th>\n      <th>Ipt2,A</th>\n      <th>Ipt3,A</th>\n      <th>Ipt4,A</th>\n      <th>Ipt5,A</th>\n      <th>Ipt6,A</th>\n      <th>Ipt7,A</th>\n      <th>...</th>\n      <th>TDS7,C</th>\n      <th>TDS8,C</th>\n      <th>TDS9,C</th>\n      <th>TKpt,C</th>\n      <th>TGbv,C</th>\n      <th>TNap,C</th>\n      <th>TPrd2,C</th>\n      <th>TPrd1,C</th>\n      <th>TDS24,C</th>\n      <th>Class</th>\n    </tr>\n  </thead>\n  <tbody>\n    <tr>\n      <th>0</th>\n      <td>14.63</td>\n      <td>0.27</td>\n      <td>0.13</td>\n      <td>0.09</td>\n      <td>0.09</td>\n      <td>0.0</td>\n      <td>0.0</td>\n      <td>0.0</td>\n      <td>0.0</td>\n      <td>0.0</td>\n      <td>...</td>\n      <td>15.0</td>\n      <td>15.0</td>\n      <td>15.0</td>\n      <td>24.0</td>\n      <td>16.0</td>\n      <td>16.0</td>\n      <td>16.0</td>\n      <td>16.0</td>\n      <td>19.0</td>\n      <td>0</td>\n    </tr>\n    <tr>\n      <th>1</th>\n      <td>14.76</td>\n      <td>0.27</td>\n      <td>0.13</td>\n      <td>0.09</td>\n      <td>0.07</td>\n      <td>0.0</td>\n      <td>0.0</td>\n      <td>0.0</td>\n      <td>0.0</td>\n      <td>0.0</td>\n      <td>...</td>\n      <td>15.0</td>\n      <td>15.0</td>\n      <td>15.0</td>\n      <td>24.0</td>\n      <td>16.0</td>\n      <td>16.0</td>\n      <td>16.0</td>\n      <td>16.0</td>\n      <td>19.0</td>\n      <td>0</td>\n    </tr>\n    <tr>\n      <th>2</th>\n      <td>13.64</td>\n      <td>0.24</td>\n      <td>0.72</td>\n      <td>0.09</td>\n      <td>0.09</td>\n      <td>0.0</td>\n      <td>0.0</td>\n      <td>0.0</td>\n      <td>0.0</td>\n      <td>0.0</td>\n      <td>...</td>\n      <td>16.0</td>\n      <td>15.0</td>\n      <td>15.0</td>\n      <td>24.0</td>\n      <td>16.0</td>\n      <td>16.0</td>\n      <td>16.0</td>\n      <td>16.0</td>\n      <td>19.0</td>\n      <td>0</td>\n    </tr>\n    <tr>\n      <th>3</th>\n      <td>14.69</td>\n      <td>0.21</td>\n      <td>0.56</td>\n      <td>0.07</td>\n      <td>0.09</td>\n      <td>0.0</td>\n      <td>0.0</td>\n      <td>0.0</td>\n      <td>0.0</td>\n      <td>0.0</td>\n      <td>...</td>\n      <td>16.0</td>\n      <td>16.0</td>\n      <td>15.0</td>\n      <td>24.0</td>\n      <td>16.0</td>\n      <td>16.0</td>\n      <td>16.0</td>\n      <td>16.0</td>\n      <td>19.0</td>\n      <td>0</td>\n    </tr>\n    <tr>\n      <th>4</th>\n      <td>14.76</td>\n      <td>0.21</td>\n      <td>0.83</td>\n      <td>0.07</td>\n      <td>0.07</td>\n      <td>0.0</td>\n      <td>0.0</td>\n      <td>0.0</td>\n      <td>0.0</td>\n      <td>0.0</td>\n      <td>...</td>\n      <td>16.0</td>\n      <td>16.0</td>\n      <td>15.0</td>\n      <td>24.0</td>\n      <td>16.0</td>\n      <td>16.0</td>\n      <td>17.0</td>\n      <td>16.0</td>\n      <td>19.0</td>\n      <td>0</td>\n    </tr>\n    <tr>\n      <th>...</th>\n      <td>...</td>\n      <td>...</td>\n      <td>...</td>\n      <td>...</td>\n      <td>...</td>\n      <td>...</td>\n      <td>...</td>\n      <td>...</td>\n      <td>...</td>\n      <td>...</td>\n      <td>...</td>\n      <td>...</td>\n      <td>...</td>\n      <td>...</td>\n      <td>...</td>\n      <td>...</td>\n      <td>...</td>\n      <td>...</td>\n      <td>...</td>\n      <td>...</td>\n      <td>...</td>\n    </tr>\n    <tr>\n      <th>1433</th>\n      <td>14.56</td>\n      <td>0.21</td>\n      <td>0.51</td>\n      <td>0.09</td>\n      <td>0.07</td>\n      <td>0.0</td>\n      <td>0.0</td>\n      <td>0.0</td>\n      <td>0.0</td>\n      <td>0.0</td>\n      <td>...</td>\n      <td>15.0</td>\n      <td>15.0</td>\n      <td>15.0</td>\n      <td>25.0</td>\n      <td>18.0</td>\n      <td>17.0</td>\n      <td>17.0</td>\n      <td>17.0</td>\n      <td>21.0</td>\n      <td>0</td>\n    </tr>\n    <tr>\n      <th>1434</th>\n      <td>14.56</td>\n      <td>0.21</td>\n      <td>0.64</td>\n      <td>0.09</td>\n      <td>0.09</td>\n      <td>0.0</td>\n      <td>0.0</td>\n      <td>0.0</td>\n      <td>0.0</td>\n      <td>0.0</td>\n      <td>...</td>\n      <td>15.0</td>\n      <td>15.0</td>\n      <td>15.0</td>\n      <td>25.0</td>\n      <td>17.0</td>\n      <td>17.0</td>\n      <td>17.0</td>\n      <td>17.0</td>\n      <td>21.0</td>\n      <td>0</td>\n    </tr>\n    <tr>\n      <th>1435</th>\n      <td>14.56</td>\n      <td>0.27</td>\n      <td>0.69</td>\n      <td>0.09</td>\n      <td>0.07</td>\n      <td>0.0</td>\n      <td>0.0</td>\n      <td>0.0</td>\n      <td>0.0</td>\n      <td>0.0</td>\n      <td>...</td>\n      <td>15.0</td>\n      <td>15.0</td>\n      <td>15.0</td>\n      <td>25.0</td>\n      <td>17.0</td>\n      <td>17.0</td>\n      <td>17.0</td>\n      <td>17.0</td>\n      <td>21.0</td>\n      <td>0</td>\n    </tr>\n    <tr>\n      <th>1436</th>\n      <td>14.56</td>\n      <td>0.19</td>\n      <td>0.43</td>\n      <td>0.09</td>\n      <td>0.13</td>\n      <td>0.0</td>\n      <td>0.0</td>\n      <td>0.0</td>\n      <td>0.0</td>\n      <td>0.0</td>\n      <td>...</td>\n      <td>15.0</td>\n      <td>15.0</td>\n      <td>15.0</td>\n      <td>25.0</td>\n      <td>17.0</td>\n      <td>17.0</td>\n      <td>17.0</td>\n      <td>17.0</td>\n      <td>21.0</td>\n      <td>2</td>\n    </tr>\n    <tr>\n      <th>1437</th>\n      <td>14.56</td>\n      <td>0.21</td>\n      <td>0.53</td>\n      <td>0.07</td>\n      <td>0.07</td>\n      <td>0.0</td>\n      <td>0.0</td>\n      <td>0.0</td>\n      <td>0.0</td>\n      <td>0.0</td>\n      <td>...</td>\n      <td>15.0</td>\n      <td>15.0</td>\n      <td>15.0</td>\n      <td>25.0</td>\n      <td>17.0</td>\n      <td>17.0</td>\n      <td>17.0</td>\n      <td>17.0</td>\n      <td>20.0</td>\n      <td>2</td>\n    </tr>\n  </tbody>\n</table>\n<p>1438 rows × 50 columns</p>\n</div>"
     },
     "execution_count": 7,
     "metadata": {},
     "output_type": "execute_result"
    }
   ],
   "source": [
    "rescaled_data_with_classes = rescaled_data.copy()\n",
    "data_with_classes = data_filled.copy()\n",
    "\n",
    "rescaled_data_with_classes.insert(loc = rescaled_data_with_classes.shape[1], column = 'Class', value = classes)\n",
    "data_with_classes.insert(loc = data_with_classes.shape[1], column = 'Class', value = classes)\n",
    "data_with_classes"
   ],
   "metadata": {
    "collapsed": false
   }
  },
  {
   "cell_type": "markdown",
   "source": [
    "Проверим, заполнились ли пустые значение"
   ],
   "metadata": {
    "collapsed": false
   }
  },
  {
   "cell_type": "code",
   "execution_count": 8,
   "outputs": [
    {
     "name": "stdout",
     "output_type": "stream",
     "text": [
      "<class 'pandas.core.frame.DataFrame'>\n",
      "RangeIndex: 1438 entries, 0 to 1437\n",
      "Data columns (total 50 columns):\n",
      " #   Column   Non-Null Count  Dtype  \n",
      "---  ------   --------------  -----  \n",
      " 0   Ubs,V    1438 non-null   float64\n",
      " 1   Ibs,A    1438 non-null   float64\n",
      " 2   Isun,A   1438 non-null   float64\n",
      " 3   Ipt1,A   1438 non-null   float64\n",
      " 4   Ipt2,A   1438 non-null   float64\n",
      " 5   Ipt3,A   1438 non-null   float64\n",
      " 6   Ipt4,A   1438 non-null   float64\n",
      " 7   Ipt5,A   1438 non-null   float64\n",
      " 8   Ipt6,A   1438 non-null   float64\n",
      " 9   Ipt7,A   1438 non-null   float64\n",
      " 10  Ipt10,A  1438 non-null   float64\n",
      " 11  Ipt11,A  1438 non-null   float64\n",
      " 12  Ipt12,A  1438 non-null   float64\n",
      " 13  Ipt13,A  1438 non-null   float64\n",
      " 14  Ipt14,A  1438 non-null   float64\n",
      " 15  Ipt15,A  1438 non-null   float64\n",
      " 16  Ipt16,A  1438 non-null   float64\n",
      " 17  Ipt17,A  1438 non-null   float64\n",
      " 18  TR1,C    1438 non-null   float64\n",
      " 19  TR2,C    1438 non-null   float64\n",
      " 20  TR3,C    1438 non-null   float64\n",
      " 21  TR4,C    1438 non-null   float64\n",
      " 22  TR5,C    1438 non-null   float64\n",
      " 23  TR6,C    1438 non-null   float64\n",
      " 24  TR7,C    1438 non-null   float64\n",
      " 25  TR8,C    1438 non-null   float64\n",
      " 26  TR9,C    1438 non-null   float64\n",
      " 27  TR10,C   1438 non-null   float64\n",
      " 28  TR11,C   1438 non-null   float64\n",
      " 29  TR12,C   1438 non-null   float64\n",
      " 30  TR13,C   1438 non-null   float64\n",
      " 31  TR14,C   1438 non-null   float64\n",
      " 32  TR15,C   1438 non-null   float64\n",
      " 33  TR16,C   1438 non-null   float64\n",
      " 34  TDS1,C   1438 non-null   float64\n",
      " 35  TDS2,C   1438 non-null   float64\n",
      " 36  TDS3,C   1438 non-null   float64\n",
      " 37  TDS4,C   1438 non-null   float64\n",
      " 38  TDS5,C   1438 non-null   float64\n",
      " 39  TDS6,C   1438 non-null   float64\n",
      " 40  TDS7,C   1438 non-null   float64\n",
      " 41  TDS8,C   1438 non-null   float64\n",
      " 42  TDS9,C   1438 non-null   float64\n",
      " 43  TKpt,C   1438 non-null   float64\n",
      " 44  TGbv,C   1438 non-null   float64\n",
      " 45  TNap,C   1438 non-null   float64\n",
      " 46  TPrd2,C  1438 non-null   float64\n",
      " 47  TPrd1,C  1438 non-null   float64\n",
      " 48  TDS24,C  1438 non-null   float64\n",
      " 49  Class    1438 non-null   int64  \n",
      "dtypes: float64(49), int64(1)\n",
      "memory usage: 561.8 KB\n"
     ]
    }
   ],
   "source": [
    "data_with_classes.info()"
   ],
   "metadata": {
    "collapsed": false
   }
  },
  {
   "cell_type": "markdown",
   "source": [
    "Проверим, сколько образцов относятся к каждому классу"
   ],
   "metadata": {
    "collapsed": false
   }
  },
  {
   "cell_type": "code",
   "execution_count": 9,
   "outputs": [
    {
     "data": {
      "text/plain": "Class\n0    992\n1    305\n2    141\nName: count, dtype: int64"
     },
     "execution_count": 9,
     "metadata": {},
     "output_type": "execute_result"
    }
   ],
   "source": [
    "class_counts = data_with_classes['Class'].value_counts()\n",
    "class_counts"
   ],
   "metadata": {
    "collapsed": false
   }
  },
  {
   "cell_type": "markdown",
   "source": [
    "Разделим набор на обучащую и тестовую выборки"
   ],
   "metadata": {
    "collapsed": false
   }
  },
  {
   "cell_type": "code",
   "execution_count": 10,
   "outputs": [],
   "source": [
    "test_size = 0.2\n",
    "seed = 7\n",
    "\n",
    "data_X = data_with_classes.iloc[:, :-1]\n",
    "data_Y = data_with_classes['Class']\n",
    "\n",
    "data_X_train, data_X_test, data_Y_train, data_Y_test = train_test_split(data_X, data_Y, test_size=test_size, random_state=seed)\n",
    "\n",
    "rescaled_data_X = rescaled_data_with_classes.iloc[:, :-1]\n",
    "rescaled_data_Y = rescaled_data_with_classes['Class']\n",
    "\n",
    "rescaled_data_X_train, rescaled_data_X_test, rescaled_data_Y_train, rescaled_data_Y_test = train_test_split(rescaled_data_X, rescaled_data_Y, test_size=test_size, random_state=seed)\n",
    "\n",
    "\n",
    "datasets = [#{'X_train': data_X_train, 'X_test': data_X_test, 'Y_train': data_Y_train, 'Y_test': data_Y_test, 'name': 'original_data'},\n",
    "            {'X_train': rescaled_data_X_train, 'X_test': rescaled_data_X_test, 'Y_train': rescaled_data_Y_train, 'Y_test': rescaled_data_Y_test, 'name': 'original_rescaled_data'}]"
   ],
   "metadata": {
    "collapsed": false
   }
  },
  {
   "cell_type": "markdown",
   "source": [
    "Определим гиперпараметры для SVC"
   ],
   "metadata": {
    "collapsed": false
   }
  },
  {
   "cell_type": "code",
   "execution_count": 11,
   "outputs": [],
   "source": [
    "param_grid = {'C': [0.1, 1, 10, 100],\n",
    "              'kernel': ['linear', 'poly']}"
   ],
   "metadata": {
    "collapsed": false
   }
  },
  {
   "cell_type": "markdown",
   "source": [
    "Реализация SVC"
   ],
   "metadata": {
    "collapsed": false
   }
  },
  {
   "cell_type": "code",
   "execution_count": 12,
   "outputs": [
    {
     "name": "stdout",
     "output_type": "stream",
     "text": [
      "Analyse for original_rescaled_data\n",
      "Best hyper parameters for SVC: {'C': 10, 'kernel': 'poly'}\n",
      "Classification report for train data\n",
      "              precision    recall  f1-score   support\n",
      "\n",
      "           0       0.94      1.00      0.97       804\n",
      "           1       0.98      0.92      0.95       230\n",
      "           2       0.93      0.66      0.77       116\n",
      "\n",
      "    accuracy                           0.95      1150\n",
      "   macro avg       0.95      0.86      0.90      1150\n",
      "weighted avg       0.95      0.95      0.95      1150\n",
      "\n",
      "Classification report for test data\n",
      "              precision    recall  f1-score   support\n",
      "\n",
      "           0       0.91      0.99      0.95       188\n",
      "           1       0.92      0.79      0.85        75\n",
      "           2       0.50      0.36      0.42        25\n",
      "\n",
      "    accuracy                           0.89       288\n",
      "   macro avg       0.78      0.71      0.74       288\n",
      "weighted avg       0.88      0.89      0.88       288\n",
      "\n"
     ]
    }
   ],
   "source": [
    "for dataset in datasets:\n",
    "    print(f'Analyse for {dataset.get(\"name\")}')\n",
    "    svc = SVC()\n",
    "    grid_search = GridSearchCV(estimator=svc, param_grid=param_grid)\n",
    "    grid_search.fit(dataset.get('X_train'), dataset.get('Y_train'))\n",
    "    best_params_for_data = grid_search.best_params_\n",
    "    print(f\"Best hyper parameters for SVC: {best_params_for_data}\")\n",
    "\n",
    "    svc_model_train_data = SVC(C=best_params_for_data.get('C'),\n",
    "                               kernel=best_params_for_data.get('kernel'))\n",
    "    svc_model_train_data.fit(dataset.get('X_train'), dataset.get('Y_train'))\n",
    "    train_Y_pred = svc_model_train_data.predict(dataset.get('X_train'))\n",
    "    print('Classification report for train data')\n",
    "    print(classification_report(dataset.get('Y_train'), train_Y_pred))\n",
    "\n",
    "    svc_model_test_data = SVC(C=best_params_for_data.get('C'),\n",
    "                              kernel=best_params_for_data.get('kernel'))\n",
    "    svc_model_test_data.fit(dataset.get('X_train'), dataset.get('Y_train'))\n",
    "    test_Y_pred = svc_model_train_data.predict(dataset.get('X_test'))\n",
    "    print('Classification report for test data')\n",
    "    print(classification_report(dataset.get('Y_test'), test_Y_pred))"
   ],
   "metadata": {
    "collapsed": false
   }
  },
  {
   "cell_type": "markdown",
   "source": [
    "Определим гиперпараметры для бэггинга"
   ],
   "metadata": {
    "collapsed": false
   }
  },
  {
   "cell_type": "code",
   "execution_count": 13,
   "outputs": [],
   "source": [
    "param_grid = {'n_estimators': [500],\n",
    "              'max_samples': [0.5, 0.75, 1.0],\n",
    "              'estimator__C': [0.1, 1, 10, 100],\n",
    "              'estimator__kernel': ['poly']}"
   ],
   "metadata": {
    "collapsed": false
   }
  },
  {
   "cell_type": "markdown",
   "source": [
    "Реализация Бэггинга на основе SVC"
   ],
   "metadata": {
    "collapsed": false
   }
  },
  {
   "cell_type": "code",
   "execution_count": 14,
   "outputs": [
    {
     "name": "stdout",
     "output_type": "stream",
     "text": [
      "Analyse for original_rescaled_data\n",
      "Best hyper parameters for bagging: {'estimator__C': 10, 'estimator__kernel': 'poly', 'max_samples': 1.0, 'n_estimators': 500}\n",
      "Classification report for train data\n",
      "              precision    recall  f1-score   support\n",
      "\n",
      "           0       0.95      1.00      0.97       804\n",
      "           1       0.98      0.93      0.96       230\n",
      "           2       0.94      0.68      0.79       116\n",
      "\n",
      "    accuracy                           0.95      1150\n",
      "   macro avg       0.96      0.87      0.91      1150\n",
      "weighted avg       0.95      0.95      0.95      1150\n",
      "\n",
      "Classification report for test data\n",
      "              precision    recall  f1-score   support\n",
      "\n",
      "           0       0.90      1.00      0.95       188\n",
      "           1       0.94      0.80      0.86        75\n",
      "           2       0.56      0.36      0.44        25\n",
      "\n",
      "    accuracy                           0.89       288\n",
      "   macro avg       0.80      0.72      0.75       288\n",
      "weighted avg       0.88      0.89      0.88       288\n",
      "\n"
     ]
    }
   ],
   "source": [
    "for dataset in datasets:\n",
    "    print(f'Analyse for {dataset.get(\"name\")}')\n",
    "    svc_model = SVC()\n",
    "    bagging_model = BaggingClassifier(svc_model)\n",
    "    grid_search = GridSearchCV(bagging_model, param_grid)\n",
    "    grid_search.fit(dataset.get('X_train'), dataset.get('Y_train'))\n",
    "\n",
    "    best_params_for_data = grid_search.best_params_\n",
    "    print(f\"Best hyper parameters for bagging: {best_params_for_data}\")\n",
    "\n",
    "    svc_model_train_data = SVC(C=best_params_for_data.get('estimator__C'),\n",
    "                               kernel=best_params_for_data.get('estimator__kernel'))\n",
    "    bagging_model_train_data = BaggingClassifier(svc_model_train_data,\n",
    "                                                 n_estimators=best_params_for_data.get('n_estimators'),\n",
    "                                                 max_samples=best_params_for_data.get('max_samples'))\n",
    "\n",
    "    bagging_model_train_data.fit(dataset.get('X_train'), dataset.get('Y_train'))\n",
    "    train_Y_pred = bagging_model_train_data.predict(dataset.get('X_train'))\n",
    "    print('Classification report for train data')\n",
    "    print(classification_report(dataset.get('Y_train'), train_Y_pred))\n",
    "\n",
    "    svc_model_test_data = SVC(C=best_params_for_data.get('estimator__C'),\n",
    "                              kernel=best_params_for_data.get('estimator__kernel'))\n",
    "    bagging_model_test_data = BaggingClassifier(svc_model_test_data,\n",
    "                                                n_estimators=best_params_for_data.get('n_estimators'),\n",
    "                                                max_samples=best_params_for_data.get('max_samples'))\n",
    "    bagging_model_test_data.fit(dataset.get('X_train'), dataset.get('Y_train'))\n",
    "    test_Y_pred = bagging_model_test_data.predict(dataset.get('X_test'))\n",
    "    print('Classification report for test data')\n",
    "    print(classification_report(dataset.get('Y_test'), test_Y_pred))"
   ],
   "metadata": {
    "collapsed": false
   }
  },
  {
   "cell_type": "markdown",
   "source": [
    "Выводы: На преобразованном наборе данных, такие же или лучшие показатели, что на обучающем наборе данных, что на тестовом показывает бэггинг. Обели модели показывают плохие оценки для второго класса на тестовом наборе данных. Остальные оценки лежат на уровне 80%. В итоге можно сказать, что бэггинг на основе SVC с параметрами {'estimator__C': 10, 'estimator__kernel': 'poly', 'max_samples': 1.0, 'n_estimators': 500} лучше, чем SVC с параметрами {'C': 10, 'kernel': 'poly'} для данного набора данных."
   ],
   "metadata": {
    "collapsed": false
   }
  }
 ],
 "metadata": {
  "kernelspec": {
   "display_name": "Python 3",
   "language": "python",
   "name": "python3"
  },
  "language_info": {
   "codemirror_mode": {
    "name": "ipython",
    "version": 2
   },
   "file_extension": ".py",
   "mimetype": "text/x-python",
   "name": "python",
   "nbconvert_exporter": "python",
   "pygments_lexer": "ipython2",
   "version": "2.7.6"
  }
 },
 "nbformat": 4,
 "nbformat_minor": 0
}
